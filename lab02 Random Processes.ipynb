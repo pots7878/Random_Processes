{
 "cells": [
  {
   "cell_type": "markdown",
   "metadata": {},
   "source": [
    "Connor Poetzinger\n"
   ]
  },
  {
   "cell_type": "markdown",
   "metadata": {},
   "source": [
    "# Random Number generator "
   ]
  },
  {
   "cell_type": "markdown",
   "metadata": {},
   "source": [
    "## Uniform Random Cordinates "
   ]
  },
  {
   "cell_type": "markdown",
   "metadata": {},
   "source": [
    "Generate 10,000 uniform random cordinates, store then in an array, and plot them."
   ]
  },
  {
   "cell_type": "code",
   "execution_count": 1,
   "metadata": {},
   "outputs": [
    {
     "data": {
      "text/plain": [
       "Text(0.5, 0, 'X')"
      ]
     },
     "execution_count": 1,
     "metadata": {},
     "output_type": "execute_result"
    },
    {
     "data": {
      "image/png": "[encoded data removed]",
      "text/plain": [
       "<Figure size 432x288 with 1 Axes>"
      ]
     },
     "metadata": {
      "needs_background": "light"
     },
     "output_type": "display_data"
    }
   ],
   "source": [
    "import numpy as np\n",
    "import pandas as pd\n",
    "import matplotlib.pyplot as plt\n",
    "%matplotlib inline \n",
    "\n",
    "#initialize uniform random variables for x and y \n",
    "x = np.random.uniform(0, 1, 10000)\n",
    "y = np.random.uniform(0, 1, 10000)\n",
    "\n",
    "#plot random coordinates \n",
    "plt.plot(x, y, alpha = 0.7); plt.ylabel('Y'); plt.xlabel('X')"
   ]
  },
  {
   "cell_type": "markdown",
   "metadata": {},
   "source": [
    "## Histogram Visuals "
   ]
  },
  {
   "cell_type": "markdown",
   "metadata": {},
   "source": [
    "Generate histograms of the random samples and show them in the same plot."
   ]
  },
  {
   "cell_type": "code",
   "execution_count": 2,
   "metadata": {},
   "outputs": [
    {
     "data": {
      "text/plain": [
       "<matplotlib.legend.Legend at 0x1faffe9ab38>"
      ]
     },
     "execution_count": 2,
     "metadata": {},
     "output_type": "execute_result"
    },
    {
     "data": {
      "image/png": "[encoded data removed]",
      "text/plain": [
       "<Figure size 432x288 with 1 Axes>"
      ]
     },
     "metadata": {
      "needs_background": "light"
     },
     "output_type": "display_data"
    }
   ],
   "source": [
    "#plot histogram for x and y uniform random numbers \n",
    "plt.hist(x, 20, alpha = 0.5, label = 'x')\n",
    "plt.hist(y, 20, alpha = 0.5, label = 'y')\n",
    "plt.xlabel('Value')\n",
    "plt.ylabel('Count')\n",
    "plt.legend(loc='upper right')"
   ]
  },
  {
   "cell_type": "markdown",
   "metadata": {},
   "source": [
    "## Randomness of Samples"
   ]
  },
  {
   "cell_type": "markdown",
   "metadata": {},
   "source": [
    "Determine the randomness of the samples. Calculate the mean of x and y, and compare the results to the expected value of the two random variables which are both 0.5."
   ]
  },
  {
   "cell_type": "code",
   "execution_count": 3,
   "metadata": {},
   "outputs": [
    {
     "name": "stdout",
     "output_type": "stream",
     "text": [
      "Mean of random sample x: 0.5012426220950413\n",
      "Mean of random sample y: 0.497738238021686\n",
      "Expected value minus mean of random sample x: -0.0012426220950413347\n",
      "Expected value minus mean of random sample y: 0.002261761978314014\n"
     ]
    }
   ],
   "source": [
    "#Create expected value  \n",
    "expected_value = 0.5 \n",
    "\n",
    "#calculate the mean of x and y random uniform values \n",
    "x_mean = np.mean(x)\n",
    "y_mean = np.mean(y)\n",
    "\n",
    "#compare expected values with mean of x and y values \n",
    "comp_x = expected_value - x_mean\n",
    "comp_y = expected_value - y_mean\n",
    "\n",
    "#print results \n",
    "print('Mean of random sample x: {}\\nMean of random sample y: {}'.format(x_mean,y_mean))\n",
    "\n",
    "print('Expected value minus mean of random sample x: {}\\nExpected value minus mean of random sample y: {}'.format(comp_x, comp_y))"
   ]
  },
  {
   "cell_type": "code",
   "execution_count": 4,
   "metadata": {},
   "outputs": [],
   "source": [
    "def RMSE(arr):\n",
    "    \"\"\"\n",
    "    Inputs:\n",
    "        arr - array of random points with size Nx2\n",
    "    Outputs:\n",
    "        x_mean - mean of X column\n",
    "        y_mean - mean of Y column \n",
    "        calc - the root mean squared error\n",
    "    \"\"\"\n",
    "    #split the array my columns of x and y \n",
    "    x = arr[:, 0]\n",
    "    y = arr[:, 1]\n",
    "    \n",
    "    #calculate the mean of x and y \n",
    "    x_mean = np.mean(x)\n",
    "    y_mean = np.mean(y)\n",
    "    \n",
    "    #calculate the mean squared error\n",
    "    calc = np.sqrt((x_mean - 0.5)**2 + (y_mean - 0.5)**2)\n",
    "    \n",
    "    #return expected values \n",
    "    return x_mean, y_mean, calc"
   ]
  },
  {
   "cell_type": "code",
   "execution_count": 5,
   "metadata": {},
   "outputs": [
    {
     "name": "stdout",
     "output_type": "stream",
     "text": [
      "The mean of the first column is 0.555448219221686.\n",
      "\n",
      " The mean of the second column is: 0.280718828273788.\n",
      "\n",
      " The root-mean-squared-error is:\n",
      " 0.22618297302952892\n"
     ]
    }
   ],
   "source": [
    "# output the mean of each columns of the array\n",
    "# and the root-mean-squared-error \n",
    "\n",
    "#initialize S Using 5 just to show mean of columns and rmse\n",
    "S = 5\n",
    "\n",
    "#uniform array of size Sx2\n",
    "array = np.random.uniform(size=(S, 2))\n",
    "\n",
    "#call RMSE function\n",
    "x_mean, y_mean, calc = RMSE(array)\n",
    "\n",
    "#output results \n",
    "print(\"The mean of the first column is {}.\\n\\n The mean of the second column is: {}.\\n\\n The root-mean-squared-error is:\\n {}\".format(x_mean, y_mean, calc))\n",
    "    "
   ]
  },
  {
   "cell_type": "code",
   "execution_count": 6,
   "metadata": {},
   "outputs": [],
   "source": [
    "#initial vraiables \n",
    "#row size for array of Nx2\n",
    "dat = []\n",
    "\n",
    "#uniform random array of size Nx2\n",
    "for N in range(10, 10000):\n",
    "    \n",
    "    #create uniform random array for each value of N\n",
    "    arr = np.random.uniform(size=(N, 2))\n",
    "    \n",
    "    #call RMSE function and append values to python list\n",
    "    x_mean, y_mean, rmse = RMSE(arr)\n",
    "    dat.append(rmse)"
   ]
  },
  {
   "cell_type": "code",
   "execution_count": 7,
   "metadata": {},
   "outputs": [
    {
     "data": {
      "text/plain": [
       "<matplotlib.legend.Legend at 0x1fa80101e80>"
      ]
     },
     "execution_count": 7,
     "metadata": {},
     "output_type": "execute_result"
    },
    {
     "data": {
      "image/png": "[encoded data removed]",
      "text/plain": [
       "<Figure size 432x288 with 1 Axes>"
      ]
     },
     "metadata": {
      "needs_background": "light"
     },
     "output_type": "display_data"
    }
   ],
   "source": [
    "x = np.linspace(10, 10000, 9990)\n",
    "plt.loglog(x, dat, label='RMSE')\n",
    "plt.loglog(x, x**(-1/2), linewidth=5,label='$x^{-1/2}$')\n",
    "plt.legend()"
   ]
  },
  {
   "cell_type": "markdown",
   "metadata": {},
   "source": [
    "# Monty Hall Problem "
   ]
  },
  {
   "cell_type": "markdown",
   "metadata": {},
   "source": [
    "## List All Outcomes And Find Probabilities of Each Outcome"
   ]
  },
  {
   "cell_type": "markdown",
   "metadata": {},
   "source": [
    "Assume the contestant picks door 1. Since there are 3 possible locations of the car and two choices (switch or keep), there are a total of 3*2 = 6 outcomes. List all six outcomes and determine the result for each of them. Calculate the pobability of winning the car for each of the  two strategies (switch or keep). "
   ]
  },
  {
   "cell_type": "code",
   "execution_count": 8,
   "metadata": {},
   "outputs": [],
   "source": [
    "data = {'Behind door 1':['Goat', 'Goat', 'Car'], \n",
    "        'Behind door 2':['Goat', 'Car', 'Goat'], \n",
    "        'Behind door 3':['Car', 'Goal', 'Goat'], \n",
    "        'Result if staying':['Wins goat', 'Wins goat', 'Wins car'], \n",
    "        'Result if switching':['Wins car', 'Wins car','Wins goat']}"
   ]
  },
  {
   "cell_type": "code",
   "execution_count": 9,
   "metadata": {},
   "outputs": [
    {
     "data": {
      "text/html": [
       "<div>\n",
       "<style scoped>\n",
       "    .dataframe tbody tr th:only-of-type {\n",
       "        vertical-align: middle;\n",
       "    }\n",
       "\n",
       "    .dataframe tbody tr th {\n",
       "        vertical-align: top;\n",
       "    }\n",
       "\n",
       "    .dataframe thead th {\n",
       "        text-align: right;\n",
       "    }\n",
       "</style>\n",
       "<table border=\"1\" class=\"dataframe\">\n",
       "  <thead>\n",
       "    <tr style=\"text-align: right;\">\n",
       "      <th></th>\n",
       "      <th>Behind door 1</th>\n",
       "      <th>Behind door 2</th>\n",
       "      <th>Behind door 3</th>\n",
       "      <th>Result if staying</th>\n",
       "      <th>Result if switching</th>\n",
       "    </tr>\n",
       "  </thead>\n",
       "  <tbody>\n",
       "    <tr>\n",
       "      <th>0</th>\n",
       "      <td>Goat</td>\n",
       "      <td>Goat</td>\n",
       "      <td>Car</td>\n",
       "      <td>Wins goat</td>\n",
       "      <td>Wins car</td>\n",
       "    </tr>\n",
       "    <tr>\n",
       "      <th>1</th>\n",
       "      <td>Goat</td>\n",
       "      <td>Car</td>\n",
       "      <td>Goal</td>\n",
       "      <td>Wins goat</td>\n",
       "      <td>Wins car</td>\n",
       "    </tr>\n",
       "    <tr>\n",
       "      <th>2</th>\n",
       "      <td>Car</td>\n",
       "      <td>Goat</td>\n",
       "      <td>Goat</td>\n",
       "      <td>Wins car</td>\n",
       "      <td>Wins goat</td>\n",
       "    </tr>\n",
       "  </tbody>\n",
       "</table>\n",
       "</div>"
      ],
      "text/plain": [
       "  Behind door 1 Behind door 2 Behind door 3 Result if staying  \\\n",
       "0          Goat          Goat           Car         Wins goat   \n",
       "1          Goat           Car          Goal         Wins goat   \n",
       "2           Car          Goat          Goat          Wins car   \n",
       "\n",
       "  Result if switching  \n",
       "0            Wins car  \n",
       "1            Wins car  \n",
       "2           Wins goat  "
      ]
     },
     "execution_count": 9,
     "metadata": {},
     "output_type": "execute_result"
    }
   ],
   "source": [
    "df = pd.DataFrame(data)\n",
    "df"
   ]
  },
  {
   "cell_type": "markdown",
   "metadata": {},
   "source": [
    "The probability of winning the car if the contestant does not switch his/her initial choice is 1/3. The probability of winning the car if the contestant does switch his/her initial choice is 2/3. "
   ]
  },
  {
   "cell_type": "markdown",
   "metadata": {},
   "source": [
    "## Monty Hall Function"
   ]
  },
  {
   "cell_type": "code",
   "execution_count": 10,
   "metadata": {},
   "outputs": [],
   "source": [
    "import random \n",
    "\n",
    "def montyHall(switch_door, n_doors):\n",
    "    \"\"\"\n",
    "    This function simulates the monty hall game. Contestant chooses door at random \n",
    "    in hopes that his selected door reveals a prize. The host then picks a different \n",
    "    door to show the contestant that the door does not contain the prize. The \n",
    "    contestant then has the choice to switch his door to the last remaining door \n",
    "    or stick with his selection. \n",
    "    Input:\n",
    "        switch_door - Boolean value to determine if the candidate switces doors\n",
    "        n_doors - number of doors to be open in a game \n",
    "    Output:\n",
    "        result - boolean value that determines if the candidate won or lost. True \n",
    "        for won, False for lost\n",
    "    \"\"\"\n",
    "    \n",
    "    #randomly chosen int 1, 2, or 3 to represent door with car and \n",
    "    #contestant's choice\n",
    "    car_door = random.randint(1, n_doors)\n",
    "    contestant_door = random.randint(1, n_doors)\n",
    "    \n",
    "    #This creates a list of doors [1, 2, 3]\n",
    "    doors = list(range(1, n_doors+1))#must do n_doors+1 since range is exclusive at \n",
    "                                     #the end point \n",
    "    \n",
    "    #continue to loop through the list of doors [1,2,3] until the host picks a door \n",
    "    #that hasn't been selected yet\n",
    "    while len(doors) > 2:\n",
    "        \n",
    "        #randomly chose a door to open \n",
    "        #going to use choice function in the random package to \"open\" door \n",
    "        host_door = random.choice(doors)#makes a random selection in doors [1,2,3] \n",
    "        \n",
    "        #the host can never open the door with the car or the door that the \n",
    "        #contestant chose \n",
    "        if ((host_door == car_door) or (host_door == contestant_door)):\n",
    "            #continue within the while loop until the host picks a door that isnt the \n",
    "            #car or contestant door\n",
    "            continue\n",
    "            \n",
    "        #host picks a door, remove the door from the list of remaining_doors \n",
    "        doors.remove(host_door)#remove the host door from the list of doors \n",
    "    \n",
    "    #If the contestant switches their choice \n",
    "    if switch_door:#if the boolean value == True \n",
    "        \n",
    "        #there are two doors left. The contestant will never choose the same door, \n",
    "        #so I remove that door as a choice. Make remaining_doors into list so you \n",
    "        #can remove contestant_door \n",
    "        #remember here the door only has the contestant door and the car door \n",
    "        available_doors = list(doors)\n",
    "        available_doors.remove(contestant_door)#remove contestants initial choice \n",
    "        \n",
    "        #change the candidate_door to the only door available \n",
    "        #pop returns the only value in the list as original datatype element\n",
    "        contestant_door = available_doors.pop() \n",
    "        \n",
    "    #create boolean that labels if the candidate won or lost\n",
    "    result = (contestant_door == car_door)\n",
    "    \n",
    "    #return boolean true or false \n",
    "    return result"
   ]
  },
  {
   "cell_type": "code",
   "execution_count": 11,
   "metadata": {},
   "outputs": [],
   "source": [
    "def run_N_montyHall(N, switch_door, n_doors): \n",
    "    \"\"\"\n",
    "    This function runs the monty hall problem for N number of times \n",
    "    Input:\n",
    "        N - Number of tests to run \n",
    "        switch_door - Boolean value to determine if the candidate switces doors\n",
    "        n_doors - number of doors to be open in a game \n",
    "    Output:\n",
    "        num_wins - Number of times the contestant won \n",
    "        \n",
    "    \"\"\"\n",
    "    \n",
    "    #num_wins is the counter. Intialize to 0\n",
    "    num_wins = 0\n",
    "    \n",
    "    #run tests N times \n",
    "    for i in range(N):\n",
    "        \n",
    "        #if montyHall returns true increment win column \n",
    "        if montyHall(switch_door, n_doors):\n",
    "            #update number of wins\n",
    "            num_wins += 1\n",
    "    \n",
    "    #return the number of wins \n",
    "    return num_wins"
   ]
  },
  {
   "cell_type": "code",
   "execution_count": 12,
   "metadata": {},
   "outputs": [
    {
     "data": {
      "text/html": [
       "<div>\n",
       "<style scoped>\n",
       "    .dataframe tbody tr th:only-of-type {\n",
       "        vertical-align: middle;\n",
       "    }\n",
       "\n",
       "    .dataframe tbody tr th {\n",
       "        vertical-align: top;\n",
       "    }\n",
       "\n",
       "    .dataframe thead th {\n",
       "        text-align: right;\n",
       "    }\n",
       "</style>\n",
       "<table border=\"1\" class=\"dataframe\">\n",
       "  <thead>\n",
       "    <tr style=\"text-align: right;\">\n",
       "      <th></th>\n",
       "      <th>Number of iterations</th>\n",
       "      <th>Number of doors</th>\n",
       "      <th>Number of wins</th>\n",
       "      <th>Percentage (%)</th>\n",
       "    </tr>\n",
       "  </thead>\n",
       "  <tbody>\n",
       "    <tr>\n",
       "      <th>Without Switching</th>\n",
       "      <td>1000</td>\n",
       "      <td>3</td>\n",
       "      <td>345</td>\n",
       "      <td>34.5</td>\n",
       "    </tr>\n",
       "    <tr>\n",
       "      <th>With Switching</th>\n",
       "      <td>1000</td>\n",
       "      <td>3</td>\n",
       "      <td>672</td>\n",
       "      <td>67.2</td>\n",
       "    </tr>\n",
       "  </tbody>\n",
       "</table>\n",
       "</div>"
      ],
      "text/plain": [
       "                   Number of iterations  Number of doors  Number of wins  \\\n",
       "Without Switching                  1000                3             345   \n",
       "With Switching                     1000                3             672   \n",
       "\n",
       "                   Percentage (%)  \n",
       "Without Switching            34.5  \n",
       "With Switching               67.2  "
      ]
     },
     "execution_count": 12,
     "metadata": {},
     "output_type": "execute_result"
    }
   ],
   "source": [
    "#assign initial conditions\n",
    "num_door = 3\n",
    "num_test = 1000\n",
    "\n",
    "#run tests without and with switch \n",
    "num_wins_without_switch = run_N_montyHall(num_test, False, num_door)\n",
    "num_wins_with_switch = run_N_montyHall(num_test, True, num_door)\n",
    "\n",
    "#calculate probability \n",
    "prob_without_switch = num_wins_without_switch/num_test\n",
    "prob_with_switch = num_wins_with_switch/num_test\n",
    "\n",
    "# #report outputs\n",
    "data = {\"Number of iterations\":[num_test,num_test],\n",
    "        \"Number of doors\":[num_door,num_door],\n",
    "        \"Number of wins\":[num_wins_without_switch, num_wins_with_switch],\n",
    "        \"Percentage (%)\":[prob_without_switch*100, prob_with_switch*100]}\n",
    "df = pd.DataFrame(data, index=['Without Switching', 'With Switching'])\n",
    "df"
   ]
  },
  {
   "cell_type": "markdown",
   "metadata": {},
   "source": [
    "## Generalize Monty Hall Function"
   ]
  },
  {
   "cell_type": "code",
   "execution_count": 13,
   "metadata": {},
   "outputs": [
    {
     "data": {
      "text/html": [
       "<div>\n",
       "<style scoped>\n",
       "    .dataframe tbody tr th:only-of-type {\n",
       "        vertical-align: middle;\n",
       "    }\n",
       "\n",
       "    .dataframe tbody tr th {\n",
       "        vertical-align: top;\n",
       "    }\n",
       "\n",
       "    .dataframe thead th {\n",
       "        text-align: right;\n",
       "    }\n",
       "</style>\n",
       "<table border=\"1\" class=\"dataframe\">\n",
       "  <thead>\n",
       "    <tr style=\"text-align: right;\">\n",
       "      <th></th>\n",
       "      <th>Number of iterations</th>\n",
       "      <th>Number of doors</th>\n",
       "      <th>Number of wins</th>\n",
       "      <th>Percentage (%)</th>\n",
       "    </tr>\n",
       "  </thead>\n",
       "  <tbody>\n",
       "    <tr>\n",
       "      <th>Without Switching</th>\n",
       "      <td>10000</td>\n",
       "      <td>100</td>\n",
       "      <td>100</td>\n",
       "      <td>1.0</td>\n",
       "    </tr>\n",
       "    <tr>\n",
       "      <th>With Switching</th>\n",
       "      <td>10000</td>\n",
       "      <td>100</td>\n",
       "      <td>9880</td>\n",
       "      <td>98.8</td>\n",
       "    </tr>\n",
       "  </tbody>\n",
       "</table>\n",
       "</div>"
      ],
      "text/plain": [
       "                   Number of iterations  Number of doors  Number of wins  \\\n",
       "Without Switching                 10000              100             100   \n",
       "With Switching                    10000              100            9880   \n",
       "\n",
       "                   Percentage (%)  \n",
       "Without Switching             1.0  \n",
       "With Switching               98.8  "
      ]
     },
     "execution_count": 13,
     "metadata": {},
     "output_type": "execute_result"
    }
   ],
   "source": [
    "#assign initial conditions\n",
    "#For part three generalize code to simulate when there are 100 doors\n",
    "num_door = 100\n",
    "num_test = 10000\n",
    "\n",
    "#run tests without and with switch \n",
    "num_wins_without_switch = run_N_montyHall(num_test, False, num_door)\n",
    "num_wins_with_switch = run_N_montyHall(num_test, True, num_door)\n",
    "\n",
    "#calculate probability \n",
    "prob_without_switch = num_wins_without_switch/num_test\n",
    "prob_with_switch = num_wins_with_switch/num_test\n",
    "\n",
    "# #report outputs\n",
    "data = {\"Number of iterations\":[num_test,num_test],\n",
    "        \"Number of doors\":[num_door,num_door],\n",
    "        \"Number of wins\":[num_wins_without_switch, num_wins_with_switch],\n",
    "        \"Percentage (%)\":[prob_without_switch*100, prob_with_switch*100]}\n",
    "df = pd.DataFrame(data, index=['Without Switching', 'With Switching'])\n",
    "df"
   ]
  }
 ],
 "metadata": {
  "kernelspec": {
   "display_name": "Python 3",
   "language": "python",
   "name": "python3"
  },
  "language_info": {
   "codemirror_mode": {
    "name": "ipython",
    "version": 3
   },
   "file_extension": ".py",
   "mimetype": "text/x-python",
   "name": "python",
   "nbconvert_exporter": "python",
   "pygments_lexer": "ipython3",
   "version": "3.7.1"
  }
 },
 "nbformat": 4,
 "nbformat_minor": 2
}
