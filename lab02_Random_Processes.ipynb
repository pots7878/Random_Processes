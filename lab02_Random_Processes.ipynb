{
 "cells": [
  {
   "cell_type": "markdown",
   "metadata": {},
   "source": [
    "# Lab 2: Random Processes"
   ]
  },
  {
   "cell_type": "markdown",
   "metadata": {},
   "source": [
    "ISC 4221 <br>\n",
    "September 25th, 2019 <br>\n",
    "Connor Poetzinger"
   ]
  },
  {
   "cell_type": "markdown",
   "metadata": {},
   "source": [
    "## Random Number generator "
   ]
  },
  {
   "cell_type": "markdown",
   "metadata": {},
   "source": [
    "### Uniform Random Cordinates "
   ]
  },
  {
   "cell_type": "markdown",
   "metadata": {},
   "source": [
    "Generate 10,000 uniform random cordinates, store then in an array, and plot them."
   ]
  },
  {
   "cell_type": "code",
   "execution_count": 1,
   "metadata": {},
   "outputs": [
    {
     "data": {
      "text/plain": [
       "Text(0.5, 0, 'X')"
      ]
     },
     "execution_count": 1,
     "metadata": {},
     "output_type": "execute_result"
    },
    {
     "data": {
      "image/png": "[encoded data removed]",
      "text/plain": [
       "<Figure size 432x288 with 1 Axes>"
      ]
     },
     "metadata": {
      "needs_background": "light"
     },
     "output_type": "display_data"
    }
   ],
   "source": [
    "import numpy as np\n",
    "import matplotlib.pyplot as plt\n",
    "%matplotlib inline \n",
    "\n",
    "#initialize uniform random variables for x and y \n",
    "x = np.random.uniform(0, 1, 10000)\n",
    "y = np.random.uniform(0, 1, 10000)\n",
    "\n",
    "#plot random coordinates \n",
    "plt.plot(x, y, alpha = 0.7); plt.ylabel('Y'); plt.xlabel('X')"
   ]
  },
  {
   "cell_type": "markdown",
   "metadata": {},
   "source": [
    "### Histogram Visuals "
   ]
  },
  {
   "cell_type": "markdown",
   "metadata": {},
   "source": [
    "Generate histograms of the random samples and show them in the same plot."
   ]
  },
  {
   "cell_type": "code",
   "execution_count": 2,
   "metadata": {},
   "outputs": [
    {
     "data": {
      "text/plain": [
       "<matplotlib.legend.Legend at 0xed950b0>"
      ]
     },
     "execution_count": 2,
     "metadata": {},
     "output_type": "execute_result"
    },
    {
     "data": {
      "image/png": "[encoded data removed]",
      "text/plain": [
       "<Figure size 432x288 with 1 Axes>"
      ]
     },
     "metadata": {
      "needs_background": "light"
     },
     "output_type": "display_data"
    }
   ],
   "source": [
    "#plot histogram for x and y uniform random numbers \n",
    "plt.hist(x, 90, alpha = 0.5, label = 'x')\n",
    "plt.hist(y, 90, alpha = 0.5, label = 'y')\n",
    "plt.xlabel('Value')\n",
    "plt.ylabel('Count')\n",
    "plt.legend(loc='upper right')"
   ]
  },
  {
   "cell_type": "markdown",
   "metadata": {},
   "source": [
    "### Randomness of Samples"
   ]
  },
  {
   "cell_type": "markdown",
   "metadata": {},
   "source": [
    "Determine the randomness of the samples. Calculate the mean of x and y, and compare the results to the expected value of the two random variables which are both 0.5."
   ]
  },
  {
   "cell_type": "code",
   "execution_count": 3,
   "metadata": {},
   "outputs": [
    {
     "name": "stdout",
     "output_type": "stream",
     "text": [
      "Mean of random sample x: 0.4938586811204712\n",
      "Mean of random sample y: 0.5052508760279742\n",
      "Expected value minus mean of random sample x: 0.00614131887952879\n",
      "Expected value minus mean of random sample y: -0.0052508760279742495\n"
     ]
    }
   ],
   "source": [
    "expected_value = 0.5 \n",
    "\n",
    "x_mean = np.mean(x)\n",
    "y_mean = np.mean(y)\n",
    "\n",
    "comp_x = expected_value - x_mean\n",
    "comp_y = expected_value - y_mean\n",
    "\n",
    "print('Mean of random sample x: {}\\nMean of random sample y: {}'.format(x_mean,y_mean))\n",
    "print('Expected value minus mean of random sample x: {}\\nExpected value minus mean of random sample y: {}'.format(comp_x, comp_y))"
   ]
  },
  {
   "cell_type": "code",
   "execution_count": 4,
   "metadata": {},
   "outputs": [],
   "source": [
    "def RMSE(arr):\n",
    "    \"\"\"\n",
    "    Inputs:\n",
    "        arr - array of random points with size Nx2\n",
    "    Outputs:\n",
    "        x_mean - mean of X column\n",
    "        y_mean - mean of Y column \n",
    "        calc - the root mean squared error\n",
    "    \"\"\"\n",
    "    #split the array my columns of x and y \n",
    "    x = arr[:, 0]\n",
    "    y = arr[:, 1]\n",
    "    \n",
    "    #calculate the mean of x and y \n",
    "    x_mean = np.mean(x)\n",
    "    y_mean = np.mean(y)\n",
    "    \n",
    "    #calculate the mean squared error\n",
    "    calc = np.sqrt((x - 0.5)**2 + (y - 0.5)**2)\n",
    "    \n",
    "    #format output \n",
    "    print(\"The mean of the first column is {}.\\n\\n The mean of the second column is: {}.\\n\\n The root-mean-squared-error is:\\n {}\".format(x_mean, y_mean, calc))\n",
    "    \n",
    "    #return expected values \n",
    "    return x_mean, y_mean, calc"
   ]
  },
  {
   "cell_type": "code",
   "execution_count": 5,
   "metadata": {},
   "outputs": [
    {
     "name": "stdout",
     "output_type": "stream",
     "text": [
      "The mean of the first column is 0.5000676443038785.\n",
      "\n",
      " The mean of the second column is: 0.49808093391897096.\n",
      "\n",
      " The root-mean-squared-error is:\n",
      " [0.46230661 0.38991232 0.35371005 ... 0.43387735 0.44068217 0.50334383]\n"
     ]
    }
   ],
   "source": [
    "#initial vraiables \n",
    "\n",
    "#row size for array of Nx2\n",
    "# N = 10000\n",
    "#uniform random array of size Nx2\n",
    "for N in range(10, 10000):\n",
    "    arr = np.random.uniform(size=(N, 2))\n",
    "\n",
    "#call RMSE function \n",
    "x_mean, y_mean, rmse = RMSE(arr)"
   ]
  },
  {
   "cell_type": "code",
   "execution_count": 6,
   "metadata": {},
   "outputs": [
    {
     "name": "stdout",
     "output_type": "stream",
     "text": [
      "9999\n"
     ]
    },
    {
     "data": {
      "text/plain": [
       "<matplotlib.legend.Legend at 0xeedcf70>"
      ]
     },
     "execution_count": 6,
     "metadata": {},
     "output_type": "execute_result"
    },
    {
     "data": {
      "image/png": "[encoded data removed]",
      "text/plain": [
       "<Figure size 432x288 with 1 Axes>"
      ]
     },
     "metadata": {
      "needs_background": "light"
     },
     "output_type": "display_data"
    }
   ],
   "source": [
    "print(N)\n",
    "x = np.linspace(1, 100, N)\n",
    "plt.loglog(x, rmse, label='RMSE')\n",
    "plt.loglog(x, x**(-1/2), linewidth=5,label='$x^{-1/2}$')\n",
    "plt.legend()"
   ]
  },
  {
   "cell_type": "markdown",
   "metadata": {},
   "source": [
    "## Monty Hall Problem "
   ]
  },
  {
   "cell_type": "markdown",
   "metadata": {},
   "source": [
    "### List All Outcomes "
   ]
  },
  {
   "cell_type": "markdown",
   "metadata": {},
   "source": [
    "Assume the contestant picks door 1. Since there are 3 possible locations of the car and two choices (switch or keep), there are a total of 3*2 = 6 outcomes. List all six outcomes and determine the result for each of them. Calculate the pobability of winning the car for each of the  two strategies (switch or keep). "
   ]
  },
  {
   "cell_type": "code",
   "execution_count": 7,
   "metadata": {},
   "outputs": [],
   "source": [
    "data = {'Behind door 1':['Goat', 'Goat', 'Car'], \n",
    "        'Behind door 2':['Goat', 'Car', 'Goat'], \n",
    "        'Behind door 3':['Car', 'Goal', 'Goat'], \n",
    "        'Result if staying at door #1':['Wins goat', 'Wins goat', 'Wins car'], \n",
    "        'Result if switching to the door offered':['Wins car', 'Wins car','Wins goat']}"
   ]
  },
  {
   "cell_type": "code",
   "execution_count": 8,
   "metadata": {},
   "outputs": [
    {
     "data": {
      "text/html": [
       "<div>\n",
       "<style scoped>\n",
       "    .dataframe tbody tr th:only-of-type {\n",
       "        vertical-align: middle;\n",
       "    }\n",
       "\n",
       "    .dataframe tbody tr th {\n",
       "        vertical-align: top;\n",
       "    }\n",
       "\n",
       "    .dataframe thead th {\n",
       "        text-align: right;\n",
       "    }\n",
       "</style>\n",
       "<table border=\"1\" class=\"dataframe\">\n",
       "  <thead>\n",
       "    <tr style=\"text-align: right;\">\n",
       "      <th></th>\n",
       "      <th>Behind door 1</th>\n",
       "      <th>Behind door 2</th>\n",
       "      <th>Behind door 3</th>\n",
       "      <th>Result if staying at door #1</th>\n",
       "      <th>Result if switching to the door offered</th>\n",
       "    </tr>\n",
       "  </thead>\n",
       "  <tbody>\n",
       "    <tr>\n",
       "      <td>0</td>\n",
       "      <td>Goat</td>\n",
       "      <td>Goat</td>\n",
       "      <td>Car</td>\n",
       "      <td>Wins goat</td>\n",
       "      <td>Wins car</td>\n",
       "    </tr>\n",
       "    <tr>\n",
       "      <td>1</td>\n",
       "      <td>Goat</td>\n",
       "      <td>Car</td>\n",
       "      <td>Goal</td>\n",
       "      <td>Wins goat</td>\n",
       "      <td>Wins car</td>\n",
       "    </tr>\n",
       "    <tr>\n",
       "      <td>2</td>\n",
       "      <td>Car</td>\n",
       "      <td>Goat</td>\n",
       "      <td>Goat</td>\n",
       "      <td>Wins car</td>\n",
       "      <td>Wins goat</td>\n",
       "    </tr>\n",
       "  </tbody>\n",
       "</table>\n",
       "</div>"
      ],
      "text/plain": [
       "  Behind door 1 Behind door 2 Behind door 3 Result if staying at door #1  \\\n",
       "0          Goat          Goat           Car                    Wins goat   \n",
       "1          Goat           Car          Goal                    Wins goat   \n",
       "2           Car          Goat          Goat                     Wins car   \n",
       "\n",
       "  Result if switching to the door offered  \n",
       "0                                Wins car  \n",
       "1                                Wins car  \n",
       "2                               Wins goat  "
      ]
     },
     "execution_count": 8,
     "metadata": {},
     "output_type": "execute_result"
    }
   ],
   "source": [
    "import pandas as pd\n",
    "df = pd.DataFrame(data)\n",
    "df"
   ]
  },
  {
   "cell_type": "code",
   "execution_count": null,
   "metadata": {},
   "outputs": [],
   "source": []
  }
 ],
 "metadata": {
  "kernelspec": {
   "display_name": "Python 3",
   "language": "python",
   "name": "python3"
  },
  "language_info": {
   "codemirror_mode": {
    "name": "ipython",
    "version": 3
   },
   "file_extension": ".py",
   "mimetype": "text/x-python",
   "name": "python",
   "nbconvert_exporter": "python",
   "pygments_lexer": "ipython3",
   "version": "3.7.0"
  }
 },
 "nbformat": 4,
 "nbformat_minor": 2
}
