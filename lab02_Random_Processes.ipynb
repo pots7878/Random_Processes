{
 "cells": [
  {
   "cell_type": "markdown",
   "metadata": {},
   "source": [
    "# Lab 2: Random Processes"
   ]
  },
  {
   "cell_type": "markdown",
   "metadata": {},
   "source": [
    "ISC 4221 <br>\n",
    "September 25th, 2019 <br>\n",
    "Connor Poetzinger"
   ]
  },
  {
   "cell_type": "markdown",
   "metadata": {},
   "source": [
    "## Random Number generator "
   ]
  },
  {
   "cell_type": "markdown",
   "metadata": {},
   "source": [
    "### Uniform Random Cordinates "
   ]
  },
  {
   "cell_type": "markdown",
   "metadata": {},
   "source": [
    "Generate 10,000 uniform random cordinates, store then in an array, and plot them."
   ]
  },
  {
   "cell_type": "code",
   "execution_count": 1,
   "metadata": {},
   "outputs": [
    {
     "data": {
      "text/plain": [
       "Text(0.5, 0, 'X')"
      ]
     },
     "execution_count": 1,
     "metadata": {},
     "output_type": "execute_result"
    },
    {
     "data": {
      "image/png": "[encoded data removed]",
      "text/plain": [
       "<Figure size 432x288 with 1 Axes>"
      ]
     },
     "metadata": {
      "needs_background": "light"
     },
     "output_type": "display_data"
    }
   ],
   "source": [
    "import numpy as np\n",
    "import matplotlib.pyplot as plt\n",
    "%matplotlib inline \n",
    "\n",
    "#initialize uniform random variables for x and y \n",
    "x = np.random.uniform(0, 1, 10000)\n",
    "y = np.random.uniform(0, 1, 10000)\n",
    "\n",
    "#plot random coordinates \n",
    "plt.plot(x, y, alpha = 0.7); plt.ylabel('Y'); plt.xlabel('X')"
   ]
  },
  {
   "cell_type": "markdown",
   "metadata": {},
   "source": [
    "### Histogram Visuals "
   ]
  },
  {
   "cell_type": "markdown",
   "metadata": {},
   "source": [
    "Generate histograms of the random samples and show them in the same plot."
   ]
  },
  {
   "cell_type": "code",
   "execution_count": 4,
   "metadata": {},
   "outputs": [
    {
     "data": {
      "text/plain": [
       "<matplotlib.legend.Legend at 0xedc6ed0>"
      ]
     },
     "execution_count": 4,
     "metadata": {},
     "output_type": "execute_result"
    },
    {
     "data": {
      "image/png": "[encoded data removed]",
      "text/plain": [
       "<Figure size 432x288 with 1 Axes>"
      ]
     },
     "metadata": {
      "needs_background": "light"
     },
     "output_type": "display_data"
    }
   ],
   "source": [
    "#plot histogram for x and y uniform random numbers \n",
    "plt.hist(x, 20, alpha = 0.5, label = 'x')\n",
    "plt.hist(y, 20, alpha = 0.5, label = 'y')\n",
    "plt.xlabel('Value')\n",
    "plt.ylabel('Count')\n",
    "plt.legend(loc='upper right')"
   ]
  },
  {
   "cell_type": "markdown",
   "metadata": {},
   "source": [
    "### Randomness of Samples"
   ]
  },
  {
   "cell_type": "markdown",
   "metadata": {},
   "source": [
    "Determine the randomness of the samples. Calculate the mean of x and y, and compare the results to the expected value of the two random variables which are both 0.5."
   ]
  },
  {
   "cell_type": "code",
   "execution_count": 5,
   "metadata": {},
   "outputs": [
    {
     "name": "stdout",
     "output_type": "stream",
     "text": [
      "Mean of random sample x: 0.5011239101522812\n",
      "Mean of random sample y: 0.4947094369452401\n",
      "Expected value minus mean of random sample x: -0.0011239101522811934\n",
      "Expected value minus mean of random sample y: 0.005290563054759889\n"
     ]
    }
   ],
   "source": [
    "expected_value = 0.5 \n",
    "\n",
    "x_mean = np.mean(x)\n",
    "y_mean = np.mean(y)\n",
    "\n",
    "comp_x = expected_value - x_mean\n",
    "comp_y = expected_value - y_mean\n",
    "\n",
    "print('Mean of random sample x: {}\\nMean of random sample y: {}'.format(x_mean,y_mean))\n",
    "print('Expected value minus mean of random sample x: {}\\nExpected value minus mean of random sample y: {}'.format(comp_x, comp_y))"
   ]
  },
  {
   "cell_type": "code",
   "execution_count": 6,
   "metadata": {},
   "outputs": [],
   "source": [
    "def RMSE(arr):\n",
    "    \"\"\"\n",
    "    Inputs:\n",
    "        arr - array of random points with size Nx2\n",
    "    Outputs:\n",
    "        x_mean - mean of X column\n",
    "        y_mean - mean of Y column \n",
    "        calc - the root mean squared error\n",
    "    \"\"\"\n",
    "    #split the array my columns of x and y \n",
    "    x = arr[:, 0]\n",
    "    y = arr[:, 1]\n",
    "    \n",
    "    #calculate the mean of x and y \n",
    "    x_mean = np.mean(x)\n",
    "    y_mean = np.mean(y)\n",
    "    \n",
    "    #calculate the mean squared error\n",
    "    calc = np.sqrt((x - 0.5)**2 + (y - 0.5)**2)\n",
    "    \n",
    "    #format output \n",
    "    print(\"The mean of the first column is {}.\\n\\n The mean of the second column is: {}.\\n\\n The root-mean-squared-error is:\\n {}\".format(x_mean, y_mean, calc))\n",
    "    \n",
    "    #return expected values \n",
    "    return x_mean, y_mean, calc"
   ]
  },
  {
   "cell_type": "code",
   "execution_count": 7,
   "metadata": {},
   "outputs": [
    {
     "name": "stdout",
     "output_type": "stream",
     "text": [
      "The mean of the first column is 0.4997587055502935.\n",
      "\n",
      " The mean of the second column is: 0.49565182572483535.\n",
      "\n",
      " The root-mean-squared-error is:\n",
      " [0.63125804 0.62934347 0.30776397 ... 0.43145742 0.47689007 0.42894328]\n"
     ]
    }
   ],
   "source": [
    "#initial vraiables \n",
    "\n",
    "#row size for array of Nx2\n",
    "# N = 10000\n",
    "#uniform random array of size Nx2\n",
    "for N in range(10, 10000):\n",
    "    arr = np.random.uniform(size=(N, 2))\n",
    "\n",
    "#call RMSE function \n",
    "x_mean, y_mean, rmse = RMSE(arr)"
   ]
  },
  {
   "cell_type": "code",
   "execution_count": 8,
   "metadata": {},
   "outputs": [
    {
     "name": "stdout",
     "output_type": "stream",
     "text": [
      "9999\n"
     ]
    },
    {
     "data": {
      "text/plain": [
       "<matplotlib.legend.Legend at 0xee2ac10>"
      ]
     },
     "execution_count": 8,
     "metadata": {},
     "output_type": "execute_result"
    },
    {
     "data": {
      "image/png": "[encoded data removed]",
      "text/plain": [
       "<Figure size 432x288 with 1 Axes>"
      ]
     },
     "metadata": {
      "needs_background": "light"
     },
     "output_type": "display_data"
    }
   ],
   "source": [
    "print(N)\n",
    "x = np.linspace(1, 100, N)\n",
    "plt.loglog(x, rmse, label='RMSE')\n",
    "plt.loglog(x, x**(-1/2), linewidth=5,label='$x^{-1/2}$')\n",
    "plt.legend()"
   ]
  },
  {
   "cell_type": "markdown",
   "metadata": {},
   "source": [
    "## Monty Hall Problem "
   ]
  },
  {
   "cell_type": "markdown",
   "metadata": {},
   "source": [
    "### List All Outcomes "
   ]
  },
  {
   "cell_type": "markdown",
   "metadata": {},
   "source": [
    "Assume the contestant picks door 1. Since there are 3 possible locations of the car and two choices (switch or keep), there are a total of 3*2 = 6 outcomes. List all six outcomes and determine the result for each of them. Calculate the pobability of winning the car for each of the  two strategies (switch or keep). "
   ]
  },
  {
   "cell_type": "code",
   "execution_count": 7,
   "metadata": {},
   "outputs": [],
   "source": [
    "data = {'Behind door 1':['Goat', 'Goat', 'Car'], \n",
    "        'Behind door 2':['Goat', 'Car', 'Goat'], \n",
    "        'Behind door 3':['Car', 'Goal', 'Goat'], \n",
    "        'Result if staying at door #1':['Wins goat', 'Wins goat', 'Wins car'], \n",
    "        'Result if switching to the door offered':['Wins car', 'Wins car','Wins goat']}"
   ]
  },
  {
   "cell_type": "code",
   "execution_count": 8,
   "metadata": {},
   "outputs": [
    {
     "data": {
      "text/html": [
       "<div>\n",
       "<style scoped>\n",
       "    .dataframe tbody tr th:only-of-type {\n",
       "        vertical-align: middle;\n",
       "    }\n",
       "\n",
       "    .dataframe tbody tr th {\n",
       "        vertical-align: top;\n",
       "    }\n",
       "\n",
       "    .dataframe thead th {\n",
       "        text-align: right;\n",
       "    }\n",
       "</style>\n",
       "<table border=\"1\" class=\"dataframe\">\n",
       "  <thead>\n",
       "    <tr style=\"text-align: right;\">\n",
       "      <th></th>\n",
       "      <th>Behind door 1</th>\n",
       "      <th>Behind door 2</th>\n",
       "      <th>Behind door 3</th>\n",
       "      <th>Result if staying at door #1</th>\n",
       "      <th>Result if switching to the door offered</th>\n",
       "    </tr>\n",
       "  </thead>\n",
       "  <tbody>\n",
       "    <tr>\n",
       "      <td>0</td>\n",
       "      <td>Goat</td>\n",
       "      <td>Goat</td>\n",
       "      <td>Car</td>\n",
       "      <td>Wins goat</td>\n",
       "      <td>Wins car</td>\n",
       "    </tr>\n",
       "    <tr>\n",
       "      <td>1</td>\n",
       "      <td>Goat</td>\n",
       "      <td>Car</td>\n",
       "      <td>Goal</td>\n",
       "      <td>Wins goat</td>\n",
       "      <td>Wins car</td>\n",
       "    </tr>\n",
       "    <tr>\n",
       "      <td>2</td>\n",
       "      <td>Car</td>\n",
       "      <td>Goat</td>\n",
       "      <td>Goat</td>\n",
       "      <td>Wins car</td>\n",
       "      <td>Wins goat</td>\n",
       "    </tr>\n",
       "  </tbody>\n",
       "</table>\n",
       "</div>"
      ],
      "text/plain": [
       "  Behind door 1 Behind door 2 Behind door 3 Result if staying at door #1  \\\n",
       "0          Goat          Goat           Car                    Wins goat   \n",
       "1          Goat           Car          Goal                    Wins goat   \n",
       "2           Car          Goat          Goat                     Wins car   \n",
       "\n",
       "  Result if switching to the door offered  \n",
       "0                                Wins car  \n",
       "1                                Wins car  \n",
       "2                               Wins goat  "
      ]
     },
     "execution_count": 8,
     "metadata": {},
     "output_type": "execute_result"
    }
   ],
   "source": [
    "import pandas as pd\n",
    "df = pd.DataFrame(data)\n",
    "df"
   ]
  },
  {
   "cell_type": "code",
   "execution_count": 128,
   "metadata": {},
   "outputs": [],
   "source": [
    "import random \n",
    "\n",
    "def run_test(switch_door, n_doors = 3):\n",
    "    \n",
    "    car_door = random.randint(1, n_doors)\n",
    "    contestant_door = random.randint(1, n_doors)\n",
    "    \n",
    "    if switch_door:\n",
    "        #if the contestant picked door 2 then host reveals door 3. \n",
    "        #Else host reveals door 2 \n",
    "        if contestant_door == 2:\n",
    "            host_door = 3\n",
    "        else:\n",
    "            host_door = 2\n",
    "\n",
    "        #make the switch by choosing any other door than the \n",
    "        #initially selected one and the one just opened to reveal a goat \n",
    "        available_doors = [x for x in range(1, n_doors+1) \n",
    "                           if x not in (contestant_door, host_door)]\n",
    "        contestant_door = random.choice(available_doors)\n",
    "    \n",
    "    return contestant_door == 1"
   ]
  },
  {
   "cell_type": "code",
   "execution_count": 129,
   "metadata": {},
   "outputs": [],
   "source": [
    "def run_tests(N, switch_door, n_doors = 3):\n",
    "    \n",
    "    #num_wins is the counter. Intialize to 0\n",
    "    num_wins = 0\n",
    "    \n",
    "    #run tests N times \n",
    "    for i in range(N):\n",
    "        #if \n",
    "        if run_test(switch_door, n_doors):\n",
    "            num_wins += 1\n",
    "    \n",
    "    #return the number of wins \n",
    "    return num_wins"
   ]
  },
  {
   "cell_type": "code",
   "execution_count": 130,
   "metadata": {},
   "outputs": [
    {
     "name": "stdout",
     "output_type": "stream",
     "text": [
      "Monty Hall problem with 3 doors\n",
      "Proportion of wins without switching: 0.323\n",
      "Proportion of wins with switching: 0.6685\n"
     ]
    }
   ],
   "source": [
    "#assign initial conditions\n",
    "num_door = 3\n",
    "num_test = 10000\n",
    "\n",
    "#run tests without and with switch \n",
    "num_wins_without_switch = run_tests(num_test, False, num_door)\n",
    "num_wins_with_switch = run_tests(num_test, True, num_door)\n",
    "\n",
    "#calculate probability \n",
    "prob_without_switch = num_wins_without_switch/num_test\n",
    "prob_with_switch = num_wins_with_switch/num_test\n",
    "\n",
    "#report outputs\n",
    "print(\"Monty Hall problem with {} doors\".format(num_door))\n",
    "print(\"Proportion of wins without switching: {:.4}\".format(prob_without_switch))\n",
    "print(\"Proportion of wins with switching: {:.4}\".format(prob_with_switch))"
   ]
  },
  {
   "cell_type": "code",
   "execution_count": null,
   "metadata": {},
   "outputs": [],
   "source": []
  }
 ],
 "metadata": {
  "kernelspec": {
   "display_name": "Python 3",
   "language": "python",
   "name": "python3"
  },
  "language_info": {
   "codemirror_mode": {
    "name": "ipython",
    "version": 3
   },
   "file_extension": ".py",
   "mimetype": "text/x-python",
   "name": "python",
   "nbconvert_exporter": "python",
   "pygments_lexer": "ipython3",
   "version": "3.7.0"
  }
 },
 "nbformat": 4,
 "nbformat_minor": 2
}
